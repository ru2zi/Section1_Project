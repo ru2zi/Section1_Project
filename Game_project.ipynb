{
  "nbformat": 4,
  "nbformat_minor": 0,
  "metadata": {
    "colab": {
      "name": "Game_project.ipynb",
      "private_outputs": true,
      "provenance": [],
      "collapsed_sections": [],
      "mount_file_id": "1_7nzRKUNa2VkrB9Sl0sRoP41Ku-PhWkM",
      "authorship_tag": "ABX9TyPsMj+nbhcL1nQxMVN3CqYK",
      "include_colab_link": true
    },
    "kernelspec": {
      "name": "python3",
      "display_name": "Python 3"
    },
    "language_info": {
      "name": "python"
    }
  },
  "cells": [
    {
      "cell_type": "markdown",
      "metadata": {
        "id": "view-in-github",
        "colab_type": "text"
      },
      "source": [
        "<a href=\"https://colab.research.google.com/github/ru2zi/Section1_Project/blob/main/Game_project.ipynb\" target=\"_parent\"><img src=\"https://colab.research.google.com/assets/colab-badge.svg\" alt=\"Open In Colab\"/></a>"
      ]
    },
    {
      "cell_type": "code",
      "execution_count": null,
      "metadata": {
        "id": "izoZHI0GtUbo"
      },
      "outputs": [],
      "source": [
        "import pandas as pd\n",
        "import numpy as np\n",
        "import seaborn as sns\n",
        "import matplotlib.pyplot as plt"
      ]
    },
    {
      "cell_type": "markdown",
      "source": [
        "https://eda-ai-lab.tistory.com/14 (결측치 처리)"
      ],
      "metadata": {
        "id": "KSbxmds45Efz"
      }
    },
    {
      "cell_type": "code",
      "source": [
        "df = pd.read_csv('/content/drive/MyDrive/AI부트캠프/프로젝트1/vgames2.csv', index_col = 0)"
      ],
      "metadata": {
        "id": "gpYTprYevGyH"
      },
      "execution_count": null,
      "outputs": []
    },
    {
      "cell_type": "code",
      "source": [
        "mask = df['NA_Sales'].str.contains('K',case = False, na = True) | df['EU_Sales'].str.contains('K',case = False, na = True) | df['JP_Sales'].str.contains('K',case = False, na = True) | df['Other_Sales'].str.contains('K',case = False, na = True) | df['NA_Sales'].str.contains('M',case = False, na = True) | df['EU_Sales'].str.contains('M',case = False, na = True) | df['JP_Sales'].str.contains('M',case = False, na = True) | df['Other_Sales'].str.contains('M',case = False, na = True)"
      ],
      "metadata": {
        "id": "oDU4QEDsO4a1"
      },
      "execution_count": null,
      "outputs": []
    },
    {
      "cell_type": "code",
      "source": [
        "#case = False: 대소문자 구분 x"
      ],
      "metadata": {
        "id": "0bt0EISeZ8-r"
      },
      "execution_count": null,
      "outputs": []
    },
    {
      "cell_type": "code",
      "source": [
        "len(df[mask])/len(df)"
      ],
      "metadata": {
        "id": "rQQjKsUh6UOc"
      },
      "execution_count": null,
      "outputs": []
    },
    {
      "cell_type": "code",
      "source": [
        "#k,m포함 비율 전체에서 5%"
      ],
      "metadata": {
        "id": "8TkleSTqbyvw"
      },
      "execution_count": null,
      "outputs": []
    },
    {
      "cell_type": "code",
      "source": [
        "df[mask]"
      ],
      "metadata": {
        "id": "y7VEzwICgw-t"
      },
      "execution_count": null,
      "outputs": []
    },
    {
      "cell_type": "code",
      "source": [
        "df"
      ],
      "metadata": {
        "id": "AZU-8D_9vRf3"
      },
      "execution_count": null,
      "outputs": []
    },
    {
      "cell_type": "code",
      "source": [
        "df.info()"
      ],
      "metadata": {
        "id": "QRUc7as03_Ea"
      },
      "execution_count": null,
      "outputs": []
    },
    {
      "cell_type": "code",
      "source": [
        "df.isnull().sum()"
      ],
      "metadata": {
        "id": "sC8zVT4278At"
      },
      "execution_count": null,
      "outputs": []
    },
    {
      "cell_type": "markdown",
      "source": [
        "https://velog.io/@gooook/python-%EC%A0%95%EA%B7%9C%ED%91%9C%ED%98%84%EC%8B%9D-%EB%8B%A8%EC%9C%84%EB%B3%80%ED%99%98-%EB%B2%94%EC%A3%BC%EC%84%A4%EC%A0%95"
      ],
      "metadata": {
        "id": "G5PbJ0bShhZb"
      }
    },
    {
      "cell_type": "code",
      "source": [
        "#단위 제거 함수 선언\n",
        "def fix_columns(col):\n",
        "    temp_list = []\n",
        "\n",
        "    for i in col:\n",
        "        temp = float(i.replace(\"K\",\"\"))\n",
        "        temp_list.append(temp)\n",
        "\n",
        "    return temp_list\n"
      ],
      "metadata": {
        "id": "kApFqBvXSUsC"
      },
      "execution_count": null,
      "outputs": []
    },
    {
      "cell_type": "code",
      "source": [
        "df['NA_Sales'] = df['NA_Sales'].str.replace(pat=r'[M]', repl=r'', regex=True)"
      ],
      "metadata": {
        "id": "oBoY0UvDc8AJ"
      },
      "execution_count": null,
      "outputs": []
    },
    {
      "cell_type": "code",
      "source": [
        "df['EU_Sales'] = df['EU_Sales'].str.replace(pat=r'[M]', repl=r'', regex=True)"
      ],
      "metadata": {
        "id": "PnPluRJ2dA6R"
      },
      "execution_count": null,
      "outputs": []
    },
    {
      "cell_type": "code",
      "source": [
        "df['JP_Sales'] = df['JP_Sales'].str.replace(pat=r'[M]', repl=r'', regex=True)"
      ],
      "metadata": {
        "id": "h2LstMAmc3rO"
      },
      "execution_count": null,
      "outputs": []
    },
    {
      "cell_type": "code",
      "source": [
        "df['Other_Sales'] = df['Other_Sales'].str.replace(pat=r'[M]', repl=r'', regex=True)"
      ],
      "metadata": {
        "id": "H-lLzOMbdD_t"
      },
      "execution_count": null,
      "outputs": []
    },
    {
      "cell_type": "code",
      "source": [
        "les1 = df.loc[df['NA_Sales'].str.contains('K',case = False, na = True) ]"
      ],
      "metadata": {
        "id": "_kMMPzrXWu9h"
      },
      "execution_count": null,
      "outputs": []
    },
    {
      "cell_type": "code",
      "source": [
        "les1['NA_Sales'] = fix_columns(les1['NA_Sales'])"
      ],
      "metadata": {
        "id": "ADw7coIoUEQo"
      },
      "execution_count": null,
      "outputs": []
    },
    {
      "cell_type": "code",
      "source": [
        "les1['NA_Sales'] = les1['NA_Sales']*0.001"
      ],
      "metadata": {
        "id": "XCQMKlbqdt5v"
      },
      "execution_count": null,
      "outputs": []
    },
    {
      "cell_type": "code",
      "source": [
        "df['NA_Sales'].loc[df['NA_Sales'].str.contains('K')] = les1['NA_Sales']"
      ],
      "metadata": {
        "id": "iURt5CEmd6i4"
      },
      "execution_count": null,
      "outputs": []
    },
    {
      "cell_type": "code",
      "source": [
        "les2 = df.loc[df['EU_Sales'].str.contains('K',case = False, na = True) ]"
      ],
      "metadata": {
        "id": "-YNNqk_JjKQi"
      },
      "execution_count": null,
      "outputs": []
    },
    {
      "cell_type": "code",
      "source": [
        "les2['EU_Sales'] = fix_columns(les2['EU_Sales'])"
      ],
      "metadata": {
        "id": "_xhF70nmcY3t"
      },
      "execution_count": null,
      "outputs": []
    },
    {
      "cell_type": "code",
      "source": [
        "les2['EU_Sales'] = les2['EU_Sales']*0.001"
      ],
      "metadata": {
        "id": "twhn9ZyUeQhF"
      },
      "execution_count": null,
      "outputs": []
    },
    {
      "cell_type": "code",
      "source": [
        "df['EU_Sales'].loc[df['EU_Sales'].str.contains('K')] = les2['EU_Sales']"
      ],
      "metadata": {
        "id": "20Smn-jheTnS"
      },
      "execution_count": null,
      "outputs": []
    },
    {
      "cell_type": "code",
      "source": [
        "les3 = df.loc[df['JP_Sales'].str.contains('K',case = False, na = True) ]"
      ],
      "metadata": {
        "id": "toVyQN0AjbX9"
      },
      "execution_count": null,
      "outputs": []
    },
    {
      "cell_type": "code",
      "source": [
        "les3['JP_Sales'] = fix_columns(les3['JP_Sales'])"
      ],
      "metadata": {
        "id": "_F5kF6v5dX3g"
      },
      "execution_count": null,
      "outputs": []
    },
    {
      "cell_type": "code",
      "source": [
        "les3['JP_Sales'] = les3['JP_Sales']*0.001"
      ],
      "metadata": {
        "id": "QkZCq_s-eZ1E"
      },
      "execution_count": null,
      "outputs": []
    },
    {
      "cell_type": "code",
      "source": [
        "df['JP_Sales'].loc[df['JP_Sales'].str.contains('K')] = les3['JP_Sales']"
      ],
      "metadata": {
        "id": "qKnRGHrheZ-A"
      },
      "execution_count": null,
      "outputs": []
    },
    {
      "cell_type": "code",
      "source": [
        "les4 = df.loc[df['Other_Sales'].str.contains('K',case = False, na = True) ]"
      ],
      "metadata": {
        "id": "0Z06FMZijvC3"
      },
      "execution_count": null,
      "outputs": []
    },
    {
      "cell_type": "code",
      "source": [
        "les4['Other_Sales'] = fix_columns(les4['Other_Sales'])"
      ],
      "metadata": {
        "id": "-uBAToOddqVW"
      },
      "execution_count": null,
      "outputs": []
    },
    {
      "cell_type": "code",
      "source": [
        "les4['Other_Sales'] = les4['Other_Sales']*0.001"
      ],
      "metadata": {
        "id": "UpIN12Aofa0U"
      },
      "execution_count": null,
      "outputs": []
    },
    {
      "cell_type": "code",
      "source": [
        "df['Other_Sales'].loc[df['Other_Sales'].str.contains('K')] = les4['Other_Sales']"
      ],
      "metadata": {
        "id": "jOfLo3X1fasy"
      },
      "execution_count": null,
      "outputs": []
    },
    {
      "cell_type": "code",
      "source": [
        "df.dtypes"
      ],
      "metadata": {
        "id": "2hCnN56Rgmi-"
      },
      "execution_count": null,
      "outputs": []
    },
    {
      "cell_type": "code",
      "source": [
        "df = df.astype({'NA_Sales':'float','EU_Sales':'float', 'JP_Sales':'float', 'Other_Sales':'float'})"
      ],
      "metadata": {
        "id": "t1kCBNesUxQe"
      },
      "execution_count": null,
      "outputs": []
    },
    {
      "cell_type": "code",
      "source": [
        "df.isnull().sum()"
      ],
      "metadata": {
        "id": "okHkPojk6fPv"
      },
      "execution_count": null,
      "outputs": []
    },
    {
      "cell_type": "code",
      "source": [
        "df[df['Publisher'] == 'Unknown']"
      ],
      "metadata": {
        "id": "nbxikjdj7MI3"
      },
      "execution_count": null,
      "outputs": []
    },
    {
      "cell_type": "code",
      "source": [
        "df = df.replace({'Publisher' : 'Unknown'}, np.nan) "
      ],
      "metadata": {
        "id": "0ng_SH3GEfti"
      },
      "execution_count": null,
      "outputs": []
    },
    {
      "cell_type": "code",
      "source": [
        "df.isnull().sum()"
      ],
      "metadata": {
        "id": "PRlZ9fYEE0ZW"
      },
      "execution_count": null,
      "outputs": []
    },
    {
      "cell_type": "code",
      "source": [
        "df.describe()"
      ],
      "metadata": {
        "id": "Nz7TfMyKLqt9"
      },
      "execution_count": null,
      "outputs": []
    },
    {
      "cell_type": "code",
      "source": [
        " df.loc[df['Year' or 'Genre' or 'Publisher'].isna()] "
      ],
      "metadata": {
        "id": "d8L4SPGyFRAw"
      },
      "execution_count": null,
      "outputs": []
    },
    {
      "cell_type": "code",
      "source": [
        "df_n = df.dropna(axis = 0)"
      ],
      "metadata": {
        "id": "L2XJkUVxFoip"
      },
      "execution_count": null,
      "outputs": []
    },
    {
      "cell_type": "code",
      "source": [
        "df_n.isnull().sum()"
      ],
      "metadata": {
        "id": "W3bXZRRIGWt3"
      },
      "execution_count": null,
      "outputs": []
    },
    {
      "cell_type": "code",
      "source": [
        "df_n.dtypes"
      ],
      "metadata": {
        "id": "D5Bnf3z8b3XL"
      },
      "execution_count": null,
      "outputs": []
    },
    {
      "cell_type": "code",
      "source": [
        "df_n = df_n.astype({'NA_Sales':'float','EU_Sales':'float', 'JP_Sales':'float', 'Other_Sales':'float', 'Year':'int'})\n",
        "df_n.dtypes\n",
        "#year을 실수에서 정수로"
      ],
      "metadata": {
        "id": "bfEq2iIfcMWv"
      },
      "execution_count": null,
      "outputs": []
    },
    {
      "cell_type": "code",
      "source": [
        "df_n = df_n.reset_index(drop=True)"
      ],
      "metadata": {
        "id": "ZNOC9jx6goji"
      },
      "execution_count": null,
      "outputs": []
    },
    {
      "cell_type": "code",
      "source": [
        "df_n['Name'].unique()"
      ],
      "metadata": {
        "id": "mxn8DNdfI-ij"
      },
      "execution_count": null,
      "outputs": []
    },
    {
      "cell_type": "code",
      "source": [
        "df_n['Platform'].unique()"
      ],
      "metadata": {
        "id": "zjvx6Y61I0f-"
      },
      "execution_count": null,
      "outputs": []
    },
    {
      "cell_type": "code",
      "source": [
        "df_n['Year'].unique()"
      ],
      "metadata": {
        "id": "7NZ11UusJBaK"
      },
      "execution_count": null,
      "outputs": []
    },
    {
      "cell_type": "code",
      "source": [
        "#아래와 같이 조건문을 통해 일괄 바꾸려 했으나 숫자 앞에 어떻게 일관된 숫자가 아닌 20 2000 등을 집어넣을 지 잘 모르겠습니다."
      ],
      "metadata": {
        "id": "0wmDWEj5MAdu"
      },
      "execution_count": null,
      "outputs": []
    },
    {
      "cell_type": "code",
      "source": [
        "str_expr_19 = \"100 > Year >= 22\"    \n",
        "df_19 = df_n.query(str_expr_19) "
      ],
      "metadata": {
        "id": "KNA2iKA0KDU9"
      },
      "execution_count": null,
      "outputs": []
    },
    {
      "cell_type": "code",
      "source": [
        "str_expr_20_0 = \"Year == 0\"    \n",
        "df_20_0 = df_n.query(str_expr_20_0) "
      ],
      "metadata": {
        "id": "QyiWT8m_Sr-n"
      },
      "execution_count": null,
      "outputs": []
    },
    {
      "cell_type": "code",
      "source": [
        "str_expr_20_1 = \"10 > Year >= 1\"    \n",
        "df_20_1 = df_n.query(str_expr_20_1) "
      ],
      "metadata": {
        "id": "tYWZ3fFzKbsp"
      },
      "execution_count": null,
      "outputs": []
    },
    {
      "cell_type": "code",
      "source": [
        "str_expr_20_2 = \"20 > Year >= 10\"    \n",
        "df_20_2 = df_n.query(str_expr_20_2) "
      ],
      "metadata": {
        "id": "9mjS9Z9tSxQ-"
      },
      "execution_count": null,
      "outputs": []
    },
    {
      "cell_type": "code",
      "source": [
        "#따라서 아래와 같이 replace함수를 통해 하나하나 바꿨습니다."
      ],
      "metadata": {
        "id": "8KIDmlTZMK-R"
      },
      "execution_count": null,
      "outputs": []
    },
    {
      "cell_type": "code",
      "source": [
        "df_n = df_n.replace({'Year': {86:1986, 94:1994, 95:1995, 96:1996, 97:1997, 98:1998, 99:1999,0:2000, 1:2001, 2:2002, 3:2003, 4:2004, 5:2005, 6:2006, 7:2007, 8:2008, 9:2009, 10:2010, 11:2011, 12:2012, 13:2013, 14:2014, 15:2015, 16:2016}})"
      ],
      "metadata": {
        "id": "9L54e96cRtBY"
      },
      "execution_count": null,
      "outputs": []
    },
    {
      "cell_type": "code",
      "source": [
        "df_n['Year'].unique()"
      ],
      "metadata": {
        "id": "g_5KdiQ6S5AN"
      },
      "execution_count": null,
      "outputs": []
    },
    {
      "cell_type": "code",
      "source": [
        "df_n = df_n.astype({'Year':'str'})\n",
        "df_n.dtypes"
      ],
      "metadata": {
        "id": "HihIdn-LlFaa"
      },
      "execution_count": null,
      "outputs": []
    },
    {
      "cell_type": "code",
      "source": [
        "df_n['Genre'].unique()"
      ],
      "metadata": {
        "id": "w2-NEddbJITg"
      },
      "execution_count": null,
      "outputs": []
    },
    {
      "cell_type": "code",
      "source": [
        "df_n['Publisher'].unique()"
      ],
      "metadata": {
        "id": "LtkVofd9JNZA"
      },
      "execution_count": null,
      "outputs": []
    },
    {
      "cell_type": "code",
      "source": [
        "#나라별 출고량 수치를 더한 Global이란 새로운 변수를 만들어서 행별 게임의 출고량을 직관적으로 보기 쉽게 하였습니다."
      ],
      "metadata": {
        "id": "1GBATJGkM_6G"
      },
      "execution_count": null,
      "outputs": []
    },
    {
      "cell_type": "code",
      "source": [
        "df_n['Global']=df_n.iloc[:,5:8].sum(axis=1)"
      ],
      "metadata": {
        "id": "f89IWTyaXOG0"
      },
      "execution_count": null,
      "outputs": []
    },
    {
      "cell_type": "code",
      "source": [
        "df_n = df_n.round(2)"
      ],
      "metadata": {
        "id": "PCjOFmTEe6CE"
      },
      "execution_count": null,
      "outputs": []
    },
    {
      "cell_type": "code",
      "source": [
        "df_n"
      ],
      "metadata": {
        "id": "Ar9aqA8VfEOP"
      },
      "execution_count": null,
      "outputs": []
    },
    {
      "cell_type": "markdown",
      "source": [
        "\n",
        "데이터 FIX\n"
      ],
      "metadata": {
        "id": "4EgT4pYnowLd"
      }
    },
    {
      "cell_type": "code",
      "source": [
        "df_n.head()"
      ],
      "metadata": {
        "id": "X54OUjsv_s9h"
      },
      "execution_count": null,
      "outputs": []
    },
    {
      "cell_type": "code",
      "source": [
        "df_n.describe()"
      ],
      "metadata": {
        "id": "4A7ZIRPndb_v"
      },
      "execution_count": null,
      "outputs": []
    },
    {
      "cell_type": "code",
      "source": [
        "df_n.corr()"
      ],
      "metadata": {
        "id": "flv1Np8EJUhF"
      },
      "execution_count": null,
      "outputs": []
    },
    {
      "cell_type": "code",
      "source": [
        "sns.heatmap(data=df_n.corr(),annot=True)"
      ],
      "metadata": {
        "id": "jmMYUYWHWQx0"
      },
      "execution_count": null,
      "outputs": []
    },
    {
      "cell_type": "markdown",
      "source": [
        "게임 산업에 대한 분석"
      ],
      "metadata": {
        "id": "C503Y3tsOXZH"
      }
    },
    {
      "cell_type": "code",
      "source": [
        "plt.figure(figsize=(15, 10))\n",
        "sns.countplot(x=\"Year\", data=df_n, order = df_n.groupby(by=['Year'])['Name'].count().sort_values(ascending=False).index)\n",
        "plt.xticks(rotation=90)\n",
        "#게임 산업 전성기 2007~2011 추정 가능하다."
      ],
      "metadata": {
        "id": "7lGCzYpu7Com"
      },
      "execution_count": null,
      "outputs": []
    },
    {
      "cell_type": "code",
      "source": [
        "data_year = df_n.groupby(by=['Year'])['Global'].sum()\n",
        "data_year = data_year.reset_index()\n",
        "# data_year.sort_values(by=['Global_Sales'], ascending=False)"
      ],
      "metadata": {
        "id": "aBu3nXULFsLd"
      },
      "execution_count": null,
      "outputs": []
    },
    {
      "cell_type": "code",
      "source": [
        "plt.figure(figsize=(15, 10))\n",
        "sns.barplot(x=\"Year\", y=\"Global\", data=data_year)\n",
        "plt.xticks(rotation=90)"
      ],
      "metadata": {
        "id": "yoPhxN8mFzDF"
      },
      "execution_count": null,
      "outputs": []
    },
    {
      "cell_type": "markdown",
      "source": [
        "가장 인기많은 회사 알아보기 TOP 10"
      ],
      "metadata": {
        "id": "Hx8hvZqDdXe0"
      }
    },
    {
      "cell_type": "code",
      "source": [
        "Publisher_Top10 = df_n[['Publisher', 'Global']]\n",
        "Publisher_Top10 = Publisher_Top10.groupby('Publisher')['Global'].sum().sort_values(ascending=False).head(10)\n",
        "Publisher_Top10 = pd.DataFrame(Publisher_Top10).reset_index()"
      ],
      "metadata": {
        "id": "lVt4ziURdbpO"
      },
      "execution_count": null,
      "outputs": []
    },
    {
      "cell_type": "code",
      "source": [
        "plt.figure(figsize=(15, 10))\n",
        "sns.barplot(x='Publisher', y='Global', data=Publisher_Top10)\n",
        "plt.xticks(rotation=90)"
      ],
      "metadata": {
        "id": "FaZVBGKYd9PU"
      },
      "execution_count": null,
      "outputs": []
    },
    {
      "cell_type": "code",
      "source": [
        "# 주요 Publisher: Nintendo, Electronic Arts"
      ],
      "metadata": {
        "id": "fM9i6Hy4gN7p"
      },
      "execution_count": null,
      "outputs": []
    },
    {
      "cell_type": "markdown",
      "source": [
        "어떤 장르가 인기 있는지"
      ],
      "metadata": {
        "id": "s5XD7cEFOGRz"
      }
    },
    {
      "cell_type": "code",
      "source": [
        "plt.figure(figsize=(15, 10))\n",
        "sns.countplot(x=\"Genre\", data=df_n, order = df_n['Genre'].value_counts().index)\n",
        "plt.xticks(rotation=90)"
      ],
      "metadata": {
        "id": "j3IW2orI3eDG"
      },
      "execution_count": null,
      "outputs": []
    },
    {
      "cell_type": "markdown",
      "source": [
        "1. 지역별 게임 장르 선호도"
      ],
      "metadata": {
        "id": "RMqTsBMJQLVm"
      }
    },
    {
      "cell_type": "code",
      "source": [
        "Genre_regional_sales = df_n.groupby('Genre')['NA_Sales','EU_Sales',\t'JP_Sales',\t'Other_Sales'].sum()"
      ],
      "metadata": {
        "id": "RUEkNvHzpjQD"
      },
      "execution_count": null,
      "outputs": []
    },
    {
      "cell_type": "code",
      "source": [
        "Genre_regional_sales"
      ],
      "metadata": {
        "id": "TB8Cf9YJHkC7"
      },
      "execution_count": null,
      "outputs": []
    },
    {
      "cell_type": "code",
      "source": [
        "Genre_regional_sales.plot.bar(stacked=True, figsize=(15,10), ylabel='Total Sales', xlabel='Year',legend='reverse')"
      ],
      "metadata": {
        "id": "9x1syPlZpxI8"
      },
      "execution_count": null,
      "outputs": []
    },
    {
      "cell_type": "code",
      "source": [
        "Genre_regional_sales1 = Genre_regional_sales.groupby(by=['Genre']).sum()"
      ],
      "metadata": {
        "id": "ub3thoGfI0bF"
      },
      "execution_count": null,
      "outputs": []
    },
    {
      "cell_type": "code",
      "source": [
        "Genre_regional_sales2 = Genre_regional_sales1.reset_index()\n",
        "Genre_regional_sales3 = pd.melt(Genre_regional_sales2, id_vars=['Genre'], value_vars=['NA_Sales', 'EU_Sales', 'JP_Sales', 'Other_Sales'], var_name='Sale_Area', value_name='Sale_Price')\n",
        "Genre_regional_sales3.head()"
      ],
      "metadata": {
        "id": "lkY6Jvr5I-GD"
      },
      "execution_count": null,
      "outputs": []
    },
    {
      "cell_type": "code",
      "source": [
        "plt.figure(figsize=(15, 10))\n",
        "sns.barplot(x='Sale_Area', y='Sale_Price', hue='Genre', data=Genre_regional_sales3)"
      ],
      "metadata": {
        "id": "V3Fko93AJhVP"
      },
      "execution_count": null,
      "outputs": []
    },
    {
      "cell_type": "markdown",
      "source": [
        "전체 시장에 대한 파이 분석"
      ],
      "metadata": {
        "id": "wEqzX7wLPIwx"
      }
    },
    {
      "cell_type": "code",
      "source": [
        "Market_Share = Genre_regional_sales3.groupby('Sale_Area')['Sale_Price'].sum()\n",
        "Market_Share = pd.DataFrame(Market_Share)"
      ],
      "metadata": {
        "id": "yMZYKEXE10iy"
      },
      "execution_count": null,
      "outputs": []
    },
    {
      "cell_type": "code",
      "source": [
        "Market_Share.reset_index(drop = False, inplace = True)"
      ],
      "metadata": {
        "id": "Ib-rBU4e4t3w"
      },
      "execution_count": null,
      "outputs": []
    },
    {
      "cell_type": "code",
      "source": [
        "Market_Share"
      ],
      "metadata": {
        "id": "ZjQN2dBW5ncW"
      },
      "execution_count": null,
      "outputs": []
    },
    {
      "cell_type": "code",
      "source": [
        "plt.pie(Market_Share['Sale_Price'], labels=Market_Share['Sale_Area'],autopct='%.1f%%', pctdistance=0.8, radius=2)\n",
        "plt.show"
      ],
      "metadata": {
        "id": "IJKwY25_5kPE"
      },
      "execution_count": null,
      "outputs": []
    },
    {
      "cell_type": "code",
      "source": [
        "#시장 파이: 북미(49%) > 유럽 (27%) > 일본 (15%) > 기타 (9%)"
      ],
      "metadata": {
        "id": "1TMLKwcIPGOg"
      },
      "execution_count": null,
      "outputs": []
    },
    {
      "cell_type": "code",
      "source": [
        "Genre_regional_sales.reset_index(drop = False, inplace = True)"
      ],
      "metadata": {
        "id": "X7Yy2EwgAMxP"
      },
      "execution_count": null,
      "outputs": []
    },
    {
      "cell_type": "code",
      "source": [
        "Genre_regional_sales.head()"
      ],
      "metadata": {
        "id": "U6Brl9REK0Cw"
      },
      "execution_count": null,
      "outputs": []
    },
    {
      "cell_type": "markdown",
      "source": [
        "지역별로 조금더 구체적인 비율을 알아보기 위해 파이차트를 그려서 퍼센테이지를 파악한다."
      ],
      "metadata": {
        "id": "NerMSxvpPVXD"
      }
    },
    {
      "cell_type": "code",
      "source": [
        "plt.pie(Genre_regional_sales['NA_Sales'], labels=Genre_regional_sales['Genre'],autopct='%.1f%%', pctdistance=0.8, radius=2)\n",
        "plt.show\n",
        "#북미지역: Action, Sports, shooter"
      ],
      "metadata": {
        "id": "vJwFPWOYAhib"
      },
      "execution_count": null,
      "outputs": []
    },
    {
      "cell_type": "code",
      "source": [
        "plt.pie(Genre_regional_sales['EU_Sales'], labels=Genre_regional_sales['Genre'],autopct='%.1f%%', pctdistance=0.8, radius=2)\n",
        "plt.show\n",
        "#유럽지역: Action, Sports, shooter"
      ],
      "metadata": {
        "id": "RwuW4nYeJACT"
      },
      "execution_count": null,
      "outputs": []
    },
    {
      "cell_type": "code",
      "source": [
        "plt.pie(Genre_regional_sales['JP_Sales'], labels=Genre_regional_sales['Genre'],autopct='%.1f%%', pctdistance=0.8, radius=2)\n",
        "plt.show\n",
        "#일본지역: Role-Playing"
      ],
      "metadata": {
        "id": "5moxVYcxJYXu"
      },
      "execution_count": null,
      "outputs": []
    },
    {
      "cell_type": "code",
      "source": [
        "plt.pie(Genre_regional_sales['Other_Sales'], labels=Genre_regional_sales['Genre'],autopct='%.1f%%', pctdistance=0.8, radius=2)\n",
        "plt.show\n",
        "#기타지역: Action, Sports, shooter"
      ],
      "metadata": {
        "id": "IApgd9FDJMpw"
      },
      "execution_count": null,
      "outputs": []
    },
    {
      "cell_type": "markdown",
      "source": [
        "- 지역별 출고량 변화"
      ],
      "metadata": {
        "id": "cM4uK7SgRQlo"
      }
    },
    {
      "cell_type": "code",
      "source": [
        "yearly_regional_sales = df_n.groupby('Year')['NA_Sales',\t'EU_Sales',\t'JP_Sales',\t'Other_Sales'].sum()"
      ],
      "metadata": {
        "id": "XBRBk1wdVDn1"
      },
      "execution_count": null,
      "outputs": []
    },
    {
      "cell_type": "code",
      "source": [
        "yearly_regional_sales2 = yearly_regional_sales.reset_index()\n",
        "yearly_regional_sales3 = pd.melt(yearly_regional_sales2, id_vars=['Year'], value_vars=['NA_Sales', 'EU_Sales', 'JP_Sales', 'Other_Sales'], var_name='Sale_Area', value_name='Sale_Price')\n",
        "yearly_regional_sales3.head()"
      ],
      "metadata": {
        "id": "wnfeTgcJohGz"
      },
      "execution_count": null,
      "outputs": []
    },
    {
      "cell_type": "code",
      "source": [
        "plt.figure(figsize=(30, 10))\n",
        "sns.barplot(x='Year', y='Sale_Price', hue='Sale_Area', data=yearly_regional_sales3)"
      ],
      "metadata": {
        "id": "BNwJdxMYujws"
      },
      "execution_count": null,
      "outputs": []
    },
    {
      "cell_type": "code",
      "source": [
        "yearly_regional_sales.plot.bar(stacked=True, figsize=(20,10), ylabel='Total Sales', xlabel='Year',legend='reverse')"
      ],
      "metadata": {
        "id": "EamVGQTnoHEp"
      },
      "execution_count": null,
      "outputs": []
    },
    {
      "cell_type": "markdown",
      "source": [
        "2. 연도별 게임 Trend"
      ],
      "metadata": {
        "id": "BWoXewbIQEZR"
      }
    },
    {
      "cell_type": "code",
      "source": [
        "year_sale_dx = df_n.groupby(by=['Year', 'Genre'])['Global'].sum().reset_index()\n",
        "year_sale = year_sale_dx.groupby(by=['Year'])['Global'].transform(max) == year_sale_dx['Global']\n",
        "year_sale_max = year_sale_dx[year_sale].reset_index(drop=True)"
      ],
      "metadata": {
        "id": "yZZ2Vqvp8Zgu"
      },
      "execution_count": null,
      "outputs": []
    },
    {
      "cell_type": "code",
      "source": [
        "genre = year_sale_max['Genre']"
      ],
      "metadata": {
        "id": "YaE2GkWyNaXZ"
      },
      "execution_count": null,
      "outputs": []
    },
    {
      "cell_type": "code",
      "source": [
        "plt.figure(figsize=(30, 15))\n",
        "g = sns.barplot(x='Year', y='Global', data=year_sale_max)\n",
        "index = 0\n",
        "for value in year_sale_max['Global']:\n",
        "    g.text(index, value + 1, str(genre[index] + ':' +str(round(value, 2))), color='#000', size=10, rotation= 90, ha=\"center\")\n",
        "    index += 1\n",
        "\n",
        "plt.xticks(rotation=90)\n",
        "plt.show()"
      ],
      "metadata": {
        "id": "8u-QrlxGNcZa"
      },
      "execution_count": null,
      "outputs": []
    },
    {
      "cell_type": "code",
      "source": [
        "plt.figure(figsize=(30, 10))\n",
        "sns.countplot(x=\"Year\", data=df_n, hue='Genre', order=df_n.Year.value_counts().iloc[:10].index)\n",
        "plt.xticks(size=16, rotation=90)"
      ],
      "metadata": {
        "id": "bELVtS0IlVOJ"
      },
      "execution_count": null,
      "outputs": []
    },
    {
      "cell_type": "code",
      "source": [
        "df_n = df_n.astype({'Year':'int'})\n",
        "df_n.dtypes"
      ],
      "metadata": {
        "id": "GK_hQ4_LCfzL"
      },
      "execution_count": null,
      "outputs": []
    },
    {
      "cell_type": "code",
      "source": [
        "conditionlist = [\n",
        "    (df_n['Year'] >= 2010) ,\n",
        "    (df_n['Year'] >= 2000) ,\n",
        "    (df_n['Year'] >= 1990),\n",
        "    (df_n['Year'] >= 1980)]\n",
        "choicelist = ['2010', '2000', '1990', '1980']\n",
        "df_n['Trend_Year'] = np.select(conditionlist, choicelist, default='Not Specified')"
      ],
      "metadata": {
        "id": "t7eO6Jvk5Jqm"
      },
      "execution_count": null,
      "outputs": []
    },
    {
      "cell_type": "code",
      "source": [
        "df_n = df_n.astype({'Trend_Year':'int'})"
      ],
      "metadata": {
        "id": "2DIFxEF2DYs_"
      },
      "execution_count": null,
      "outputs": []
    },
    {
      "cell_type": "code",
      "source": [
        "plt.figure(figsize=(30, 10))\n",
        "sns.countplot(x=\"Trend_Year\", data=df_n, hue='Genre')\n",
        "plt.xticks(size=16, rotation=90)"
      ],
      "metadata": {
        "id": "GSIo8l7TDVkJ"
      },
      "execution_count": null,
      "outputs": []
    },
    {
      "cell_type": "markdown",
      "source": [
        "3. 출고량이 높은 게임에 대한 분석 및 시각화"
      ],
      "metadata": {
        "id": "-1l6-0PFSCLZ"
      }
    },
    {
      "cell_type": "code",
      "source": [
        "top_game_sale = df_n.sort_values(by='Global', ascending=False).head(20)\n",
        "top_game_sale"
      ],
      "metadata": {
        "id": "omsum-NVQA_v"
      },
      "execution_count": null,
      "outputs": []
    },
    {
      "cell_type": "code",
      "source": [
        "top_game_sale = top_game_sale[['Name', 'Platform', 'Year', 'Genre', 'Global']]\n",
        "# top_game_sale"
      ],
      "metadata": {
        "id": "Tz4-_8A0OU2m"
      },
      "execution_count": null,
      "outputs": []
    },
    {
      "cell_type": "code",
      "source": [
        "top_game_sale.reset_index(drop = False, inplace = True)"
      ],
      "metadata": {
        "id": "bi213Fx0PzbW"
      },
      "execution_count": null,
      "outputs": []
    },
    {
      "cell_type": "code",
      "source": [
        "name = top_game_sale['Name']\n",
        "year = top_game_sale['Year']\n",
        "platform = top_game_sale['Platform']\n",
        "y = np.arange(0, 20)"
      ],
      "metadata": {
        "id": "no15zExaOcOl"
      },
      "execution_count": null,
      "outputs": []
    },
    {
      "cell_type": "code",
      "source": [
        "plt.figure(figsize=(30, 18))\n",
        "g = sns.barplot(x='Name', y='Global', data=top_game_sale)\n",
        "\n",
        "index = 0\n",
        "for value in top_game_sale['Global']:\n",
        "    g.text(index, value-16, name[index], color='#000', size=14, rotation= 90, ha=\"center\")\n",
        "    g.text(index, value+12, platform[index], color='#000', size=14, rotation= 90, ha=\"center\")\n",
        "    index += 1\n",
        "\n",
        "plt.xticks(y, top_game_sale['Year'], fontsize=14, rotation=90)\n",
        "plt.xlabel('Release Year')\n",
        "plt.show()"
      ],
      "metadata": {
        "id": "ZXqLUgB6OeNb"
      },
      "execution_count": null,
      "outputs": []
    },
    {
      "cell_type": "code",
      "source": [
        "Pub = df_n[['Publisher', 'NA_Sales', 'EU_Sales', 'JP_Sales', 'Other_Sales', 'Global']]"
      ],
      "metadata": {
        "id": "9zuDWuEh9PE5"
      },
      "execution_count": null,
      "outputs": []
    },
    {
      "cell_type": "code",
      "source": [
        "Pub = Pub.groupby(by=['Publisher']).sum().reset_index().sort_values(by=['Global'], ascending=False)\n",
        "Pub = Pub.head(10)"
      ],
      "metadata": {
        "id": "MDfGru9w9XQJ"
      },
      "execution_count": null,
      "outputs": []
    },
    {
      "cell_type": "code",
      "source": [
        "Pub = pd.melt(Pub, id_vars=['Publisher'], value_vars=['NA_Sales', 'EU_Sales', 'JP_Sales', 'Other_Sales'], var_name='Sale_Area', value_name='Sale_Price')"
      ],
      "metadata": {
        "id": "0J2u-Tf89qQb"
      },
      "execution_count": null,
      "outputs": []
    },
    {
      "cell_type": "code",
      "source": [
        "Pub"
      ],
      "metadata": {
        "id": "mbSdimR_Jaiv"
      },
      "execution_count": null,
      "outputs": []
    },
    {
      "cell_type": "code",
      "source": [
        "plt.figure(figsize=(30, 15))\n",
        "sns.barplot(x='Publisher', y='Sale_Price', hue='Sale_Area', data=Pub)\n",
        "plt.xticks(fontsize=14, rotation=90)\n",
        "plt.yticks(fontsize=14)\n",
        "plt.show()"
      ],
      "metadata": {
        "id": "8AHbBlIO9ayF"
      },
      "execution_count": null,
      "outputs": []
    },
    {
      "cell_type": "code",
      "source": [
        "# 닌텐도는 일본 시장에서 주로 두각을 나타낸다. 북미와 유럽 지역의 다른 Publisher 비슷"
      ],
      "metadata": {
        "id": "uhfS7lsfgtm1"
      },
      "execution_count": null,
      "outputs": []
    },
    {
      "cell_type": "code",
      "source": [
        "Popular_Platform = df_n.groupby('Platform')['Name'].count().reset_index().sort_values(by='Name', ascending=False).rename(columns={'Name':'Game Count'}) \n",
        "Popular_Platform.head()"
      ],
      "metadata": {
        "id": "55zWLjKY227O"
      },
      "execution_count": null,
      "outputs": []
    },
    {
      "cell_type": "code",
      "source": [
        "#어느정도 입지가 있는 게임기기 플랫폼: PS(플레이스테이션) , 닌텐도(DS/Wii)"
      ],
      "metadata": {
        "id": "gWs8jt7V3MMk"
      },
      "execution_count": null,
      "outputs": []
    },
    {
      "cell_type": "code",
      "source": [
        "Main_Pub_Platform = df_n[['Publisher', 'Platform', 'Genre','Global']]\n",
        "Main_Pub_Platform"
      ],
      "metadata": {
        "id": "esDDD5dIhr65"
      },
      "execution_count": null,
      "outputs": []
    },
    {
      "cell_type": "code",
      "source": [
        "str_expr = \"(Publisher == 'Nintendo') or (Publisher ==  'Electronic Arts')\" \n",
        "Main_Pub_Platform = Main_Pub_Platform.query(str_expr)  "
      ],
      "metadata": {
        "id": "xPkFs7u0kzua"
      },
      "execution_count": null,
      "outputs": []
    },
    {
      "cell_type": "code",
      "source": [
        "Main_Pub_Platform"
      ],
      "metadata": {
        "id": "oOLSR2aSlOB4"
      },
      "execution_count": null,
      "outputs": []
    },
    {
      "cell_type": "code",
      "source": [
        "plt.figure(figsize=(30, 15))\n",
        "sns.barplot(x='Publisher', y='Global', hue='Platform', data=Main_Pub_Platform)\n",
        "plt.xticks(fontsize=20)\n",
        "plt.yticks(fontsize=20)\n",
        "plt.show()"
      ],
      "metadata": {
        "id": "SiKEYzxBmuy1"
      },
      "execution_count": null,
      "outputs": []
    },
    {
      "cell_type": "code",
      "source": [
        "plt.figure(figsize=(30, 15))\n",
        "sns.barplot(x='Publisher', y='Global', hue='Genre', data=Main_Pub_Platform)\n",
        "plt.xticks(fontsize=20)\n",
        "plt.yticks(fontsize=20)\n",
        "plt.show()"
      ],
      "metadata": {
        "id": "s-FN0fj3E3eF"
      },
      "execution_count": null,
      "outputs": []
    },
    {
      "cell_type": "code",
      "source": [
        "df_n[\"Generalize\"] = df_n[\"Platform\"]"
      ],
      "metadata": {
        "id": "AXVgNRbyH-LH"
      },
      "execution_count": null,
      "outputs": []
    },
    {
      "cell_type": "code",
      "source": [
        "df_n"
      ],
      "metadata": {
        "id": "D9unCqPkIAui"
      },
      "execution_count": null,
      "outputs": []
    },
    {
      "cell_type": "code",
      "source": [
        "Generalize = {\"PS2\":\"PS\", \"PS3\":\"PS\", \"PS4\":\"PS\", \"PSV\":\"PS_E\", \"PSP\":\"PS_E\", \"3DS\":\"DS\", \"GBA\":\"GB\", \"SNES\":\"NES\", \"N64\":\"NES\"}\n",
        "df_n[\"Generalize\"] = df_n[\"Platform\"].replace(Generalize)"
      ],
      "metadata": {
        "id": "fiI2HYj7DQMS"
      },
      "execution_count": null,
      "outputs": []
    },
    {
      "cell_type": "code",
      "source": [
        "df_n"
      ],
      "metadata": {
        "id": "eMgdRxbdGqlY"
      },
      "execution_count": null,
      "outputs": []
    },
    {
      "cell_type": "code",
      "source": [
        "df_n_g = df_n.query(str_expr)  "
      ],
      "metadata": {
        "id": "g-JtO1b1Jjzg"
      },
      "execution_count": null,
      "outputs": []
    },
    {
      "cell_type": "code",
      "source": [
        "plt.figure(figsize=(30, 15))\n",
        "sns.barplot(x='Publisher', y='Global', hue='Generalize', data=df_n_g)\n",
        "plt.xticks(fontsize=20)\n",
        "plt.yticks(fontsize=20)\n",
        "plt.show()"
      ],
      "metadata": {
        "id": "ikgcgQNUJGw0"
      },
      "execution_count": null,
      "outputs": []
    },
    {
      "cell_type": "code",
      "source": [
        "#닌텐도 회사의 주력 platform위주 분석"
      ],
      "metadata": {
        "id": "RmCBod2kS_NU"
      },
      "execution_count": null,
      "outputs": []
    },
    {
      "cell_type": "code",
      "source": [
        "str_expr1 = \"(Platform == 'Wii') or (Platform ==  'NES') or (Platform == 'GB')\" \n",
        "Main_Pub_Platform_EX = Main_Pub_Platform.query(str_expr1)  \n",
        "Main_Pub_Platform_EX"
      ],
      "metadata": {
        "id": "VEcp2PFqrQUV"
      },
      "execution_count": null,
      "outputs": []
    },
    {
      "cell_type": "code",
      "source": [
        "plt.figure(figsize=(30, 15))\n",
        "sns.barplot(x='Platform', y='Global', hue='Genre', data=Main_Pub_Platform_EX)\n",
        "plt.xticks(fontsize=20)\n",
        "plt.yticks(fontsize=20)\n",
        "plt.show()"
      ],
      "metadata": {
        "id": "-vV8Epq8rEsp"
      },
      "execution_count": null,
      "outputs": []
    },
    {
      "cell_type": "code",
      "source": [
        "#Electronic Arts\t 회사의 주력 platform위주 분석"
      ],
      "metadata": {
        "id": "wcvKPRiDTDv1"
      },
      "execution_count": null,
      "outputs": []
    },
    {
      "cell_type": "code",
      "source": [
        "str_expr2 = \"(Platform ==  'PS4') or (Platform == 'GB')\" \n",
        "Main_Pub_Platform_EX2 = Main_Pub_Platform.query(str_expr2)  \n",
        "Main_Pub_Platform_EX2"
      ],
      "metadata": {
        "id": "hhi1KOVEMu7d"
      },
      "execution_count": null,
      "outputs": []
    },
    {
      "cell_type": "code",
      "source": [
        "plt.figure(figsize=(30, 15))\n",
        "sns.barplot(x='Platform', y='Global', hue='Genre', data=Main_Pub_Platform_EX2)\n",
        "plt.xticks(fontsize=20)\n",
        "plt.yticks(fontsize=20)\n",
        "plt.show()"
      ],
      "metadata": {
        "id": "2gacPCmRM6XP"
      },
      "execution_count": null,
      "outputs": []
    },
    {
      "cell_type": "code",
      "source": [
        "str_expr3 = \"(Genre ==  'Action') or (Genre == 'Sports')\" \n",
        "Key_Genre = df_n.query(str_expr3)  \n",
        "Key_Genre"
      ],
      "metadata": {
        "id": "H1BGEgTiNtRC"
      },
      "execution_count": null,
      "outputs": []
    },
    {
      "cell_type": "code",
      "source": [
        "#가장 인기있는 장르인 action과 sports는 어디 플랫폼을 이용하는지 의문생김"
      ],
      "metadata": {
        "id": "caTq3GMmTXBe"
      },
      "execution_count": null,
      "outputs": []
    },
    {
      "cell_type": "code",
      "source": [
        "plt.figure(figsize=(30, 15))\n",
        "sns.barplot(x='Genre', y='Global', hue='Platform', data=Key_Genre)\n",
        "plt.xticks(fontsize=20)\n",
        "plt.yticks(fontsize=20)\n",
        "plt.show()"
      ],
      "metadata": {
        "id": "cADnB6-v7lnL"
      },
      "execution_count": null,
      "outputs": []
    },
    {
      "cell_type": "markdown",
      "source": [
        "닌텐도 회사의 게임 중 장르가 액션과 스포츠인 것"
      ],
      "metadata": {
        "id": "KvWNJrywTg9i"
      }
    },
    {
      "cell_type": "code",
      "source": [
        "condition1 = \"(Publisher == 'Nintendo')\"\n",
        "Nin = df_n.query(condition1)  \n",
        "Nin"
      ],
      "metadata": {
        "id": "kIfCcV3MBUqW"
      },
      "execution_count": null,
      "outputs": []
    },
    {
      "cell_type": "code",
      "source": [
        "condition2 = \"(Genre ==  'Action') or (Genre == 'Sports')\" \n",
        "Nin = Nin.query(condition2)  \n",
        "Nin"
      ],
      "metadata": {
        "id": "Vzbced6DDT6M"
      },
      "execution_count": null,
      "outputs": []
    },
    {
      "cell_type": "code",
      "source": [
        "plt.figure(figsize=(30, 15))\n",
        "sns.barplot(x='Publisher', y='Global', hue='Genre', data=Nin)\n",
        "plt.xticks(fontsize=20)\n",
        "plt.yticks(fontsize=20)\n",
        "plt.show()"
      ],
      "metadata": {
        "id": "8vbc1YG6TxwB"
      },
      "execution_count": null,
      "outputs": []
    },
    {
      "cell_type": "code",
      "source": [
        "plt.figure(figsize=(30, 15))\n",
        "sns.barplot(x='Publisher', y='Global', hue='Platform', data=Nin)\n",
        "plt.xticks(fontsize=20)\n",
        "plt.yticks(fontsize=20)\n",
        "plt.show()"
      ],
      "metadata": {
        "id": "JL4DsnmnDc39"
      },
      "execution_count": null,
      "outputs": []
    },
    {
      "cell_type": "markdown",
      "source": [
        "Electronic Arts 회사의 게임 중 장르가 액션과 스포츠인 것"
      ],
      "metadata": {
        "id": "j85AV2wqTmGV"
      }
    },
    {
      "cell_type": "code",
      "source": [
        "condition3 = \"(Publisher == 'Electronic Arts')\"\n",
        "Elec = df_n.query(condition3)  \n",
        "Elec"
      ],
      "metadata": {
        "id": "7EMTNmLLEDem"
      },
      "execution_count": null,
      "outputs": []
    },
    {
      "cell_type": "code",
      "source": [
        "condition4 = \"(Genre ==  'Action') or (Genre == 'Sports')\" \n",
        "Elec = Elec.query(condition4)  \n",
        "Elec"
      ],
      "metadata": {
        "id": "pfAxjVlrEX8R"
      },
      "execution_count": null,
      "outputs": []
    },
    {
      "cell_type": "code",
      "source": [
        "plt.figure(figsize=(30, 15))\n",
        "sns.barplot(x='Publisher', y='Global', hue='Genre', data=Elec)\n",
        "plt.xticks(fontsize=20)\n",
        "plt.yticks(fontsize=20)\n",
        "plt.show()"
      ],
      "metadata": {
        "id": "auw-PBqiEkrN"
      },
      "execution_count": null,
      "outputs": []
    },
    {
      "cell_type": "code",
      "source": [
        "plt.figure(figsize=(30, 15))\n",
        "sns.barplot(x='Publisher', y='Global', hue='Platform', data=Elec)\n",
        "plt.xticks(fontsize=20)\n",
        "plt.yticks(fontsize=20)\n",
        "plt.show()"
      ],
      "metadata": {
        "id": "uFvpft10T_Kp"
      },
      "execution_count": null,
      "outputs": []
    },
    {
      "cell_type": "code",
      "source": [
        "game_group_region_sales_table = pd.DataFrame()\n",
        "game_group_region_sales = df_n.groupby('Name')[['NA_Sales', 'EU_Sales', 'JP_Sales', 'Other_Sales']].sum()\n",
        "\n",
        "for i in ['NA_Sales', 'EU_Sales', 'JP_Sales', 'Other_Sales']:\n",
        "    game_group_region_sales_table[i] = game_group_region_sales.sort_values(by=i, ascending=False).reset_index()['Name']\n",
        "\n",
        "game_group_region_sales_table.head(5)"
      ],
      "metadata": {
        "id": "E4c0Ty5YJxMP"
      },
      "execution_count": null,
      "outputs": []
    },
    {
      "cell_type": "code",
      "source": [
        "df_n[df_n['Name'] =='Pokemon Red/Pokemon Blue']"
      ],
      "metadata": {
        "id": "QPzKXuD3Ktei"
      },
      "execution_count": null,
      "outputs": []
    },
    {
      "cell_type": "code",
      "source": [
        "df_n[df_n['Name'] =='Grand Theft Auto: San Andreas']"
      ],
      "metadata": {
        "id": "lHdlflDmUOax"
      },
      "execution_count": null,
      "outputs": []
    },
    {
      "cell_type": "code",
      "source": [
        "df_n[df_n['Name'] =='Wii Sports']"
      ],
      "metadata": {
        "id": "LZW_UMI3CYQg"
      },
      "execution_count": null,
      "outputs": []
    },
    {
      "cell_type": "code",
      "source": [
        ""
      ],
      "metadata": {
        "id": "dY7gZa3y5EaB"
      },
      "execution_count": null,
      "outputs": []
    }
  ]
}